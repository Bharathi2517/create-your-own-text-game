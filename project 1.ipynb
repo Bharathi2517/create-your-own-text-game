{
 "cells": [
  {
   "cell_type": "markdown",
   "id": "a3ea648c-d6c3-467b-8a50-053dbbeedb0f",
   "metadata": {},
   "source": [
    "# CREATE YOUR OWN ADVENTURE GAME"
   ]
  },
  {
   "cell_type": "code",
   "execution_count": null,
   "id": "165606cc-537d-43a2-ae2d-31189f351984",
   "metadata": {},
   "outputs": [
    {
     "name": "stdout",
     "output_type": "stream",
     "text": [
      "Hello and welcome to the Pythonland Adventure!\n",
      "The kingdom of Pythonland needs your help! The evil Lord Evilton has stolen the King's gold, \n",
      "and we need your help to get it back!\n"
     ]
    }
   ],
   "source": [
    "def playGame():   \n",
    "    introduction = '''Hello and welcome to the Pythonland Adventure!\n",
    "The kingdom of Pythonland needs your help! The evil Lord Evilton has stolen the King's gold, \n",
    "and we need your help to get it back!'''\n",
    "    print(introduction)\n",
    "    \n",
    "    stillPlaying = True\n",
    "    while stillPlaying:\n",
    "        choice = input(\"Do you accept the challenge? (y/n) \")\n",
    "        if choice == \"y\":\n",
    "            print(\"You approach Lord Evilton's castle, but there are guards at the door. How do you want to proceed?\")\n",
    "            choice = input(\"1: Throw a rock in the bushes to distract them \\n2: Try to fight through them \")\n",
    "            if choice == \"1\":\n",
    "                print(\"The guards are distracted long enough for you to run into the castle! \\n\")\n",
    "                print(\"Inside the doorway you enter a room with three doors. Which door do you choose?\")\n",
    "                choice = input(\"1: The red door, 2: The black door, 3: The blue door \")\n",
    "                if choice == \"1\":\n",
    "                    print(\"The red door leads directly into a pit of lava.\")\n",
    "                elif choice == \"2\":\n",
    "                    print(\"The black door leads to the throne room! Lord Evilton sits on his throne guarding his stolen gold.\")\n",
    "                    choice = input(\"Do you 1: Fight or 2: Run \")\n",
    "                    if choice == \"1\":\n",
    "                        print(\"You fight Lord Evilton and win! You grab the gold and escape to safety! The King thanks you.\")\n",
    "                    else:\n",
    "                        print(\"You run from the castle to safety.\")\n",
    "                elif choice == \"3\":\n",
    "                    print(\"The blue door leads to the gold room, you grab the gold and escape to safety! The King thanks you.\")\n",
    "                \n",
    "            else:\n",
    "                print(\"You are too weak, and you lose the battle.\")\n",
    "        \n",
    "        \n",
    "        playAgain = input(\"Do you want to keep playing? (y/n) \")\n",
    "        if playAgain == \"n\":\n",
    "            print(\"Thanks for playing\")\n",
    "            stillPlaying = False\n",
    "playGame()"
   ]
  },
  {
   "cell_type": "code",
   "execution_count": null,
   "id": "a0b64820-5049-4e6c-aaeb-f82963d4a391",
   "metadata": {},
   "outputs": [],
   "source": []
  },
  {
   "cell_type": "code",
   "execution_count": null,
   "id": "838c638f-a1a8-4e5e-b560-ec8bc387f024",
   "metadata": {},
   "outputs": [],
   "source": []
  }
 ],
 "metadata": {
  "kernelspec": {
   "display_name": "Python 3 (ipykernel)",
   "language": "python",
   "name": "python3"
  },
  "language_info": {
   "codemirror_mode": {
    "name": "ipython",
    "version": 3
   },
   "file_extension": ".py",
   "mimetype": "text/x-python",
   "name": "python",
   "nbconvert_exporter": "python",
   "pygments_lexer": "ipython3",
   "version": "3.11.7"
  }
 },
 "nbformat": 4,
 "nbformat_minor": 5
}
